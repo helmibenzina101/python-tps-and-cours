{
 "cells": [
  {
   "cell_type": "code",
   "execution_count": 2,
   "id": "c8068781",
   "metadata": {
    "scrolled": true
   },
   "outputs": [
    {
     "name": "stdout",
     "output_type": "stream",
     "text": [
      "mot MLK44655off549885kkk66489knjkn\n",
      "nombre de lettres en majuscule= 3\n",
      "nombre de lettre en majuscule 3\n",
      "nombre de caractéres non redondants= 5\n",
      "Nombre de caractéres non redondants= 5\n",
      "mot nkjnk98466kkk588945ffo55644KLM\n",
      "la nouvelle mot MLK@55off@@kkk@89knjkn\n",
      "mot= MLK@55off@@kkk@89knjkn\n",
      "somme des chiffres= 27\n",
      "MLK@55off@@kkk@89knjkn n'est pas composable de  Ppython\n",
      "abc\n"
     ]
    }
   ],
   "source": [
    "mot=\" MLK44655off549885kkk66489knjkn \"\n",
    "#1-les espaces de bord \n",
    "mot=mot.strip();\n",
    "print(\"mot\",mot)\n",
    "#2-compter les nombres majuscules\n",
    "lettre_maj=0\n",
    "for c in mot:\n",
    "    if c.isupper():\n",
    "        lettre_maj+=1\n",
    "print(\"nombre de lettres en majuscule=\",lettre_maj)        \n",
    "#2eme methode\n",
    "lettre_maj=0\n",
    "for lettre in \"ABCDEFGHIJKLMNOPQRSTUVWXYZ\":\n",
    "    lettre_maj +=mot.count(lettre)\n",
    "    #count calcule le nombre d occurence dans une chaine de caracteres\n",
    "print(\"nombre de lettre en majuscule\",lettre_maj)\n",
    "#3-nombre de caractere non redondant \n",
    "unique_chars=0\n",
    "for char in mot:\n",
    "    if mot.count(char)==1:\n",
    "        unique_chars+=1\n",
    "print(\"nombre de caractéres non redondants=\",unique_chars)\n",
    "#2eme methode\n",
    "compt=0\n",
    "for i in range (len(mot)):\n",
    "    if mot[i] not in mot[:i]:\n",
    "        if mot.count(mot[i])==1:\n",
    "            compt+=1\n",
    "print(\"Nombre de caractéres non redondants=\",compt)\n",
    "#4-remplacer certains caratere a et A par ? en une seule ligne avec \n",
    "#inversion de chaine\n",
    "print(\"mot\",mot.replace(\"A\",\"?\").replace(\"a\",\"?\")[::-1])\n",
    "#5-remplacer sous chaines de trois chiffres succesif par @\n",
    "import re\n",
    "pattern = r'\\d{3}'\n",
    "mot= re.sub(pattern,'@', mot)\n",
    "print(\"la nouvelle mot\",mot)\n",
    "# 2 eme methode \n",
    "resultat=\"\"\n",
    "for i in range (len(mot)):\n",
    "    #on ajoute pas +1 au range car on commence par 0 \n",
    "    if mot [i:i+3].isdigit():\n",
    "        resulat+='@'\n",
    "    else:\n",
    "        resultat+=mot[i]\n",
    "mot=resultat        \n",
    "print(\"mot=\",resultat)        \n",
    "#6-calculer les sommes des chiffres \n",
    "somme=0\n",
    "for c in mot: \n",
    "    if c.isdigit():\n",
    "        somme+=int(c)\n",
    "print(\"somme des chiffres=\",somme) \n",
    "#7-verifier si le mot est composable par une certaine chaine de caractere\n",
    "composable=True\n",
    "ch=\"Ppython\"\n",
    "ch1=ch\n",
    "mot_verif=mot\n",
    "for lettre in mot_verif :\n",
    "    if lettre in ch:\n",
    "        ch=ch.replace(lettre,'',1)\n",
    "    else:\n",
    "        composable= False\n",
    "    break\n",
    "if composable:\n",
    "    print(mot,\"est composable par\",ch)\n",
    "else:\n",
    "    print(mot,\"n'est pas composable de \",ch)\n",
    "\n",
    "    print (\"abc\")\n"
   ]
  },
  {
   "cell_type": "code",
   "execution_count": null,
   "id": "acdf84be",
   "metadata": {},
   "outputs": [],
   "source": []
  },
  {
   "cell_type": "markdown",
   "id": "1be96747",
   "metadata": {},
   "source": [
    "helooo\n"
   ]
  },
  {
   "cell_type": "code",
   "execution_count": 2,
   "id": "db7ec192",
   "metadata": {},
   "outputs": [
    {
     "name": "stdout",
     "output_type": "stream",
     "text": [
      "tcours\n"
     ]
    }
   ],
   "source": [
    "ch = \"pythontcourse\"\n",
    "print(ch[-2:-8:-1][::-1])"
   ]
  },
  {
   "cell_type": "code",
   "execution_count": 5,
   "id": "e1f18ddc",
   "metadata": {},
   "outputs": [
    {
     "name": "stdout",
     "output_type": "stream",
     "text": [
      "AB"
     ]
    }
   ],
   "source": [
    "ch=\"AA;BDE\"\n",
    "for n in ch.split(\";\"):\n",
    "    print(n[0],end=\"\")"
   ]
  },
  {
   "cell_type": "code",
   "execution_count": 10,
   "id": "62716f20",
   "metadata": {},
   "outputs": [
    {
     "name": "stdout",
     "output_type": "stream",
     "text": [
      "6\n"
     ]
    }
   ],
   "source": [
    "ch=\"A123\"[1:]\n",
    "s=0\n",
    "for i in ch: \n",
    "    s+=int(i)\n",
    "print(s)    "
   ]
  },
  {
   "cell_type": "code",
   "execution_count": 12,
   "id": "7dd8d134",
   "metadata": {},
   "outputs": [
    {
     "name": "stdout",
     "output_type": "stream",
     "text": [
      "['ab', 50, 5, 10]\n"
     ]
    },
    {
     "ename": "TypeError",
     "evalue": "unsupported operand type(s) for +: 'int' and 'str'",
     "output_type": "error",
     "traceback": [
      "\u001b[1;31m---------------------------------------------------------------------------\u001b[0m",
      "\u001b[1;31mTypeError\u001b[0m                                 Traceback (most recent call last)",
      "\u001b[1;32mc:\\Users\\user\\Desktop\\python tps and cours\\tp2 correction.ipynb Cell 7\u001b[0m line \u001b[0;36m4\n\u001b[0;32m      <a href='vscode-notebook-cell:/c%3A/Users/user/Desktop/python%20tps%20and%20cours/tp2%20correction.ipynb#W6sZmlsZQ%3D%3D?line=1'>2</a>\u001b[0m l1\u001b[39m.\u001b[39minsert(\u001b[39m2\u001b[39m,\u001b[39m5\u001b[39m)\n\u001b[0;32m      <a href='vscode-notebook-cell:/c%3A/Users/user/Desktop/python%20tps%20and%20cours/tp2%20correction.ipynb#W6sZmlsZQ%3D%3D?line=2'>3</a>\u001b[0m \u001b[39mprint\u001b[39m(l1)\n\u001b[1;32m----> <a href='vscode-notebook-cell:/c%3A/Users/user/Desktop/python%20tps%20and%20cours/tp2%20correction.ipynb#W6sZmlsZQ%3D%3D?line=3'>4</a>\u001b[0m \u001b[39mprint\u001b[39m(\u001b[39msum\u001b[39;49m(l1))\n",
      "\u001b[1;31mTypeError\u001b[0m: unsupported operand type(s) for +: 'int' and 'str'"
     ]
    }
   ],
   "source": [
    "l1=[\"ab\",50,10]\n",
    "l1.insert(2,5)\n",
    "print(l1)\n",
    "print(sum(l1))"
   ]
  },
  {
   "cell_type": "code",
   "execution_count": 17,
   "id": "7e606a02",
   "metadata": {},
   "outputs": [
    {
     "name": "stdout",
     "output_type": "stream",
     "text": [
      "[15, 20, 10]\n",
      "[15, 20, 10, [14, 13]]\n"
     ]
    }
   ],
   "source": [
    "l1=list([15])\n",
    "l1.extend([20,10])\n",
    "print(l1)\n",
    "l1.append ([14,13])\n",
    "print(l1)"
   ]
  }
 ],
 "metadata": {
  "kernelspec": {
   "display_name": "Python 3 (ipykernel)",
   "language": "python",
   "name": "python3"
  },
  "language_info": {
   "codemirror_mode": {
    "name": "ipython",
    "version": 3
   },
   "file_extension": ".py",
   "mimetype": "text/x-python",
   "name": "python",
   "nbconvert_exporter": "python",
   "pygments_lexer": "ipython3",
   "version": "3.11.1"
  }
 },
 "nbformat": 4,
 "nbformat_minor": 5
}

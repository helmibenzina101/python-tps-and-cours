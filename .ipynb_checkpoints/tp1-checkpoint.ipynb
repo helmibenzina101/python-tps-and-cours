{
 "cells": [
  {
   "cell_type": "code",
   "execution_count": 16,
   "id": "9f1c205d",
   "metadata": {},
   "outputs": [
    {
     "name": "stdout",
     "output_type": "stream",
     "text": [
      "saisir l heure23\n",
      "saisir la minute59\n",
      "23 : 59\n",
      "dans un minute il sera  0 : 0\n"
     ]
    }
   ],
   "source": [
    "h=int(input(\"saisir l heure\"))\n",
    "while (h<0) or (h>23): \n",
    "    h=int(input(\"saisir l heure\"))\n",
    "m=int(input(\"saisir la minute\"))\n",
    "while (m<0) or (m>59):\n",
    "    m=int(input(\"saisir la minute\"))\n",
    "print (h ,':',m)\n",
    "m+=1\n",
    "if (m<=60):\n",
    "    h+=1 ; m=0\n",
    "    if (h<=24):\n",
    "        h=0 ;m=0\n",
    "print ('dans un minute il sera ',h,':',m)    \n",
    "    \n",
    "    "
   ]
  },
  {
   "cell_type": "code",
   "execution_count": 28,
   "id": "432565bf",
   "metadata": {},
   "outputs": [
    {
     "name": "stdout",
     "output_type": "stream",
     "text": [
      "24\n",
      "devinez le nombre23\n",
      "l entier est plus grand \n",
      "devinez le nombre25\n",
      "lentier est plus petit\n",
      "devinez le nombre24\n",
      "bravo\n"
     ]
    }
   ],
   "source": [
    "from random import random \n",
    "from random import randint\n",
    "a=randint(1,100)\n",
    "#print (a)\n",
    "\n",
    "while (True):\n",
    "    b=int(input(\"devinez le nombre\"))\n",
    "    if a>b: \n",
    "        print(\"l entier est plus grand \")\n",
    "    elif a<b:\n",
    "        print (\"lentier est plus petit\")\n",
    "    elif a==b:\n",
    "        print (\"bravo\")\n",
    "        break\n",
    "        "
   ]
  },
  {
   "cell_type": "code",
   "execution_count": 35,
   "id": "73b2320f",
   "metadata": {},
   "outputs": [
    {
     "name": "stdout",
     "output_type": "stream",
     "text": [
      "saisir les nombre de produit choisi3\n",
      "saisir le prix du produit98\n",
      "entrer les categorie du produitA\n",
      "saisir le prix du produit85\n",
      "entrer les categorie du produitB\n",
      "saisir le prix du produit45\n",
      "entrer les categorie du produitC\n",
      "la prix total ttc est de 263.11\n"
     ]
    }
   ],
   "source": [
    "nbr=int(input(\"saisir les nombre de produit choisi\"))\n",
    "n=0\n",
    "tttc=0\n",
    "while (n<nbr):\n",
    "    prod=float(input(\"saisir le prix du produit\"))\n",
    "    cat=input(\"entrer les categorie du produit\")\n",
    "    if cat=='A':\n",
    "        tttc+=prod + (prod*0.07)\n",
    "    elif cat=='B':\n",
    "        tttc+=prod + (prod*0.2)\n",
    "    elif cat=='C':\n",
    "        tttc+=prod + (prod*0.25)\n",
    "    n+=1  \n",
    "print (\"la prix total ttc est de %.2f\" %(tttc))    \n",
    "\n",
    "\n"
   ]
  },
  {
   "cell_type": "code",
   "execution_count": 29,
   "id": "dd9a9bff",
   "metadata": {},
   "outputs": [
    {
     "data": {
      "text/plain": [
       "float"
      ]
     },
     "execution_count": 29,
     "metadata": {},
     "output_type": "execute_result"
    }
   ],
   "source": [
    "type(3.14)"
   ]
  },
  {
   "cell_type": "code",
   "execution_count": null,
   "id": "4db48c46",
   "metadata": {},
   "outputs": [],
   "source": []
  }
 ],
 "metadata": {
  "kernelspec": {
   "display_name": "Python 3 (ipykernel)",
   "language": "python",
   "name": "python3"
  },
  "language_info": {
   "codemirror_mode": {
    "name": "ipython",
    "version": 3
   },
   "file_extension": ".py",
   "mimetype": "text/x-python",
   "name": "python",
   "nbconvert_exporter": "python",
   "pygments_lexer": "ipython3",
   "version": "3.11.4"
  }
 },
 "nbformat": 4,
 "nbformat_minor": 5
}

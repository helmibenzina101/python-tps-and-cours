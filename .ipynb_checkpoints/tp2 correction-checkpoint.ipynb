{
 "cells": [
  {
   "cell_type": "code",
   "execution_count": 22,
   "id": "c8068781",
   "metadata": {
    "scrolled": true
   },
   "outputs": [
    {
     "name": "stdout",
     "output_type": "stream",
     "text": [
      "mot MLK44655off549885kkk66489knjkn\n",
      "nombre de lettres en majuscule= 3\n",
      "nombre de lettre en majuscule 3\n",
      "nombre de caractéres non redondants= 5\n",
      "Nombre de caractéres non redondants= 5\n",
      "mot nkjnk98466kkk588945ffo55644KLM\n",
      "la nouvelle mot MLK@55off@@kkk@89knjkn\n",
      "mot= MLK@55off@@kkk@89knjkn\n",
      "somme des chiffres= 27\n",
      "MLK@55off@@kkk@89knjkn n'est pas composable de  Ppython\n"
     ]
    }
   ],
   "source": [
    "mot=\" MLK44655off549885kkk66489knjkn \"\n",
    "#1-les espaces de bord \n",
    "mot=mot.strip();\n",
    "print(\"mot\",mot)\n",
    "#2-compter les nombres majuscules\n",
    "lettre_maj=0\n",
    "for c in mot:\n",
    "    if c.isupper():\n",
    "        lettre_maj+=1\n",
    "print(\"nombre de lettres en majuscule=\",lettre_maj)        \n",
    "#2eme methode\n",
    "lettre_maj=0\n",
    "for lettre in \"ABCDEFGHIJKLMNOPQRSTUVWXYZ\":\n",
    "    lettre_maj +=mot.count(lettre)\n",
    "    #count calcule le nombre d occurence dans une chaine de caracteres\n",
    "print(\"nombre de lettre en majuscule\",lettre_maj)\n",
    "#3-nombre de caractere non redondant \n",
    "unique_chars=0\n",
    "for char in mot:\n",
    "    if mot.count(char)==1:\n",
    "        unique_chars+=1\n",
    "print(\"nombre de caractéres non redondants=\",unique_chars)\n",
    "#2eme methode\n",
    "compt=0\n",
    "for i in range (len(mot)):\n",
    "    if mot[i] not in mot[:i]:\n",
    "        if mot.count(mot[i])==1:\n",
    "            compt+=1\n",
    "print(\"Nombre de caractéres non redondants=\",compt)\n",
    "#4-remplacer certains caratere a et A par ? en une seule ligne avec \n",
    "#inversion de chaine\n",
    "print(\"mot\",mot.replace(\"A\",\"?\").replace(\"a\",\"?\")[::-1])\n",
    "#5-remplacer sous chaines de trois chiffres succesif par @\n",
    "import re\n",
    "pattern = r'\\d{3}'\n",
    "mot= re.sub(pattern,'@', mot)\n",
    "print(\"la nouvelle mot\",mot)\n",
    "# 2 eme methode \n",
    "resultat=\"\"\n",
    "for i in range (len(mot)):\n",
    "    #on ajoute pas +1 au range car on commence par 0 \n",
    "    if mot [i:i+3].isdigit():\n",
    "        resulat+='@'\n",
    "    else:\n",
    "        resultat+=mot[i]\n",
    "mot=resultat        \n",
    "print(\"mot=\",resultat)        \n",
    "#6-calculer les sommes des chiffres \n",
    "somme=0\n",
    "for c in mot: \n",
    "    if c.isdigit():\n",
    "        somme+=int(c)\n",
    "print(\"somme des chiffres=\",somme) \n",
    "#7-verifier si le mot est composable par une certaine chaine de caractere\n",
    "composable=True\n",
    "ch=\"Ppython\"\n",
    "ch1=ch\n",
    "mot_verif=mot\n",
    "for lettre in mot_verif :\n",
    "    if lettre in ch:\n",
    "        ch=ch.replace(lettre,'',1)\n",
    "    else:\n",
    "        composable= False\n",
    "    break\n",
    "if composable:\n",
    "    print(mot,\"est composable par\",ch)\n",
    "else:\n",
    "    print(mot,\"n'est pas composable de \",ch)\n",
    "\n",
    "    "
   ]
  },
  {
   "cell_type": "code",
   "execution_count": null,
   "id": "acdf84be",
   "metadata": {},
   "outputs": [],
   "source": []
  }
 ],
 "metadata": {
  "kernelspec": {
   "display_name": "Python 3 (ipykernel)",
   "language": "python",
   "name": "python3"
  },
  "language_info": {
   "codemirror_mode": {
    "name": "ipython",
    "version": 3
   },
   "file_extension": ".py",
   "mimetype": "text/x-python",
   "name": "python",
   "nbconvert_exporter": "python",
   "pygments_lexer": "ipython3",
   "version": "3.11.4"
  }
 },
 "nbformat": 4,
 "nbformat_minor": 5
}

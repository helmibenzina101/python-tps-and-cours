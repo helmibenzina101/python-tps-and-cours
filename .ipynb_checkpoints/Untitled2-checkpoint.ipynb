{
 "cells": [
  {
   "cell_type": "code",
   "execution_count": 5,
   "id": "1f01ffe2",
   "metadata": {},
   "outputs": [
    {
     "name": "stdout",
     "output_type": "stream",
     "text": [
      "[3, 'c', True, 3.14, 'd', 3.14]\n"
     ]
    }
   ],
   "source": [
    "liste1=[3,'c']\n",
    "liste2=[True,3.14,'d',3.14]\n",
    "print (liste1 + liste2)"
   ]
  },
  {
   "cell_type": "code",
   "execution_count": 6,
   "id": "6a62b1a9",
   "metadata": {},
   "outputs": [
    {
     "name": "stdout",
     "output_type": "stream",
     "text": [
      "[1, 2, 3, 4, 'd', 3.14]\n"
     ]
    }
   ],
   "source": [
    "liste2[0:2]=[1,2,3,4]\n",
    "print (liste2)"
   ]
  },
  {
   "cell_type": "code",
   "execution_count": 7,
   "id": "a1bc616c",
   "metadata": {},
   "outputs": [],
   "source": [
    "nombre=[1,2,3]\n",
    "nb=nombre "
   ]
  },
  {
   "cell_type": "code",
   "execution_count": 8,
   "id": "581c659e",
   "metadata": {},
   "outputs": [
    {
     "name": "stdout",
     "output_type": "stream",
     "text": [
      "(1932313137600, 1932313137600)\n"
     ]
    }
   ],
   "source": [
    "print((id(nb),id(nombre)))"
   ]
  },
  {
   "cell_type": "code",
   "execution_count": 9,
   "id": "814f2e67",
   "metadata": {},
   "outputs": [],
   "source": [
    "nb[-1]=9"
   ]
  },
  {
   "cell_type": "code",
   "execution_count": 10,
   "id": "d4572df8",
   "metadata": {},
   "outputs": [
    {
     "name": "stdout",
     "output_type": "stream",
     "text": [
      "[1, 2, 9]\n"
     ]
    }
   ],
   "source": [
    "print(nombre)"
   ]
  },
  {
   "cell_type": "code",
   "execution_count": 20,
   "id": "61adbbcc",
   "metadata": {},
   "outputs": [
    {
     "name": "stdout",
     "output_type": "stream",
     "text": [
      "4\n",
      "[8, False, 'hihi', 5.5, 'igi']\n",
      "[8, False, 'hihi', 5.5, 'igi', 1, 8]\n",
      "[8, False, 'hihi', 'bb', 5.5, 'igi', 1, 8]\n",
      "None\n"
     ]
    }
   ],
   "source": [
    "import copy\n",
    "liste = [8,False,'hihi',5.5]\n",
    "print(len(liste))\n",
    "liste.append('igi')\n",
    "print (liste)\n",
    "liste.extend([1,8])\n",
    "print(liste)\n",
    "liste.insert(3,'bb')\n",
    "print(liste)\n",
    "#liste1=[8,False,'hihi',5.5][1,5]]\n",
    "#[1,5] change \n",
    "print(liste.reverse())"
   ]
  },
  {
   "cell_type": "code",
   "execution_count": 22,
   "id": "811647f9",
   "metadata": {},
   "outputs": [
    {
     "data": {
      "text/plain": [
       "<list_reverseiterator at 0x1c1e6d7e620>"
      ]
     },
     "execution_count": 22,
     "metadata": {},
     "output_type": "execute_result"
    }
   ],
   "source": [
    "reversed(liste)"
   ]
  },
  {
   "cell_type": "code",
   "execution_count": 24,
   "id": "bc693f92",
   "metadata": {},
   "outputs": [
    {
     "name": "stdout",
     "output_type": "stream",
     "text": [
      "8\n",
      "False\n",
      "hihi\n",
      "bb\n",
      "5.5\n",
      "igi\n",
      "1\n",
      "8\n"
     ]
    }
   ],
   "source": [
    "for i in reversed (liste):\n",
    "    print(i)"
   ]
  },
  {
   "cell_type": "code",
   "execution_count": 26,
   "id": "348df6ac",
   "metadata": {},
   "outputs": [
    {
     "ename": "TypeError",
     "evalue": "'NoneType' object is not iterable",
     "output_type": "error",
     "traceback": [
      "\u001b[1;31m---------------------------------------------------------------------------\u001b[0m",
      "\u001b[1;31mTypeError\u001b[0m                                 Traceback (most recent call last)",
      "Cell \u001b[1;32mIn[26], line 1\u001b[0m\n\u001b[1;32m----> 1\u001b[0m \u001b[38;5;28;01mfor\u001b[39;00m i \u001b[38;5;129;01min\u001b[39;00m liste\u001b[38;5;241m.\u001b[39mreverse():\n\u001b[0;32m      2\u001b[0m     \u001b[38;5;28mprint\u001b[39m(i)\n",
      "\u001b[1;31mTypeError\u001b[0m: 'NoneType' object is not iterable"
     ]
    }
   ],
   "source": [
    "for i in liste.reverse():\n",
    "    print(i)"
   ]
  },
  {
   "cell_type": "code",
   "execution_count": 31,
   "id": "79a4b601",
   "metadata": {},
   "outputs": [
    {
     "name": "stdout",
     "output_type": "stream",
     "text": [
      "[1, 3, 5, 8, 8, 8]\n"
     ]
    }
   ],
   "source": [
    "liste=[8,1,3,5,8,8]\n",
    "liste.sort()\n",
    "print(liste)    \n"
   ]
  },
  {
   "cell_type": "code",
   "execution_count": 33,
   "id": "2cde5a39",
   "metadata": {},
   "outputs": [
    {
     "ename": "AttributeError",
     "evalue": "'list' object has no attribute 'reversed'",
     "output_type": "error",
     "traceback": [
      "\u001b[1;31m---------------------------------------------------------------------------\u001b[0m",
      "\u001b[1;31mAttributeError\u001b[0m                            Traceback (most recent call last)",
      "Cell \u001b[1;32mIn[33], line 1\u001b[0m\n\u001b[1;32m----> 1\u001b[0m liste4\u001b[38;5;241m=\u001b[39mliste\u001b[38;5;241m.\u001b[39mreversed()\n",
      "\u001b[1;31mAttributeError\u001b[0m: 'list' object has no attribute 'reversed'"
     ]
    }
   ],
   "source": [
    "liste4=liste.reversed()"
   ]
  },
  {
   "cell_type": "code",
   "execution_count": 37,
   "id": "5d9fcbd1",
   "metadata": {},
   "outputs": [
    {
     "name": "stdout",
     "output_type": "stream",
     "text": [
      "['banane', 'kiwi', 'pomme']\n",
      "['kiwi', 'pomme', 'banane']\n"
     ]
    }
   ],
   "source": [
    "listefruit=[\"kiwi\",\"pomme\",\"banane\"]\n",
    "liste=sorted(listefruit)\n",
    "print(liste)\n",
    "liste=sorted(listefruit,key=len)\n",
    "print(liste)"
   ]
  },
  {
   "cell_type": "code",
   "execution_count": 39,
   "id": "e1b7b90a",
   "metadata": {},
   "outputs": [
    {
     "name": "stdout",
     "output_type": "stream",
     "text": [
      "kiwi\n",
      "pomme\n",
      "banane\n"
     ]
    }
   ],
   "source": [
    "for f in listefruit:\n",
    "    print(f)"
   ]
  },
  {
   "cell_type": "code",
   "execution_count": 49,
   "id": "5ff919bc",
   "metadata": {},
   "outputs": [
    {
     "name": "stdout",
     "output_type": "stream",
     "text": [
      "kiwi\n",
      "pomme\n",
      "banane\n"
     ]
    }
   ],
   "source": [
    "i=0\n",
    "while (i<len(listefruit)):\n",
    "    print(listefruit[i])\n",
    "    i+=1"
   ]
  },
  {
   "cell_type": "code",
   "execution_count": 3,
   "id": "a5894f38",
   "metadata": {},
   "outputs": [
    {
     "ename": "NameError",
     "evalue": "name 'fmax' is not defined",
     "output_type": "error",
     "traceback": [
      "\u001b[1;31m---------------------------------------------------------------------------\u001b[0m",
      "\u001b[1;31mNameError\u001b[0m                                 Traceback (most recent call last)",
      "Cell \u001b[1;32mIn[3], line 5\u001b[0m\n\u001b[0;32m      2\u001b[0m liste \u001b[38;5;241m=\u001b[39m [liste1,\u001b[38;5;124m'\u001b[39m\u001b[38;5;124mbon\u001b[39m\u001b[38;5;124m'\u001b[39m,[\u001b[38;5;241m3\u001b[39m,\u001b[38;5;241m4\u001b[39m]]\n\u001b[0;32m      4\u001b[0m f\n\u001b[1;32m----> 5\u001b[0m \u001b[38;5;28;01mwhile\u001b[39;00m (fmax\u001b[38;5;241m<\u001b[39m\u001b[38;5;28mlen\u001b[39m(liste)):\n\u001b[0;32m      6\u001b[0m     h\u001b[38;5;241m=\u001b[39m\u001b[38;5;241m0\u001b[39m\n\u001b[0;32m      7\u001b[0m     f\u001b[38;5;241m+\u001b[39m\u001b[38;5;241m=\u001b[39m\u001b[38;5;241m1\u001b[39m\n",
      "\u001b[1;31mNameError\u001b[0m: name 'fmax' is not defined"
     ]
    }
   ],
   "source": [
    "liste1= [2,'c','salut']\n",
    "liste = [liste1,'bon',[3,4]]\n",
    "\n",
    "f=0\n",
    "while (f<len(liste)):\n",
    "    h=0\n",
    "    f+=1\n",
    "    while  (h<len(f)):\n",
    "        print(liste[f][h])\n",
    "        h+=1   \n"
   ]
  },
  {
   "cell_type": "code",
   "execution_count": null,
   "id": "23bb2e43",
   "metadata": {},
   "outputs": [],
   "source": []
  }
 ],
 "metadata": {
  "kernelspec": {
   "display_name": "Python 3 (ipykernel)",
   "language": "python",
   "name": "python3"
  },
  "language_info": {
   "codemirror_mode": {
    "name": "ipython",
    "version": 3
   },
   "file_extension": ".py",
   "mimetype": "text/x-python",
   "name": "python",
   "nbconvert_exporter": "python",
   "pygments_lexer": "ipython3",
   "version": "3.11.4"
  }
 },
 "nbformat": 4,
 "nbformat_minor": 5
}

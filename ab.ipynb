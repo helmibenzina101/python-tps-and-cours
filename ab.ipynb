{
 "cells": [
  {
   "cell_type": "code",
   "execution_count": 1,
   "metadata": {},
   "outputs": [
    {
     "name": "stdout",
     "output_type": "stream",
     "text": [
      "<class 'set'>\n",
      "e= {'ab', 7, 8, 9, 78}\n",
      "nbre element 5\n"
     ]
    }
   ],
   "source": [
    "e={9,8,7,\"ab\",78,7,7,9,8}\n",
    "print (type(e))\n",
    "print(\"e=\",e)\n",
    "print(\"nbre element\",len(e))"
   ]
  },
  {
   "cell_type": "code",
   "execution_count": 4,
   "metadata": {},
   "outputs": [
    {
     "name": "stdout",
     "output_type": "stream",
     "text": [
      "e2 =  {'s', 'b', 'm', 'l', 'e', 'n'}\n",
      "{'s', 'b', 'e', 'm', 'n', 'l'}\n"
     ]
    }
   ],
   "source": [
    "e2=set(\"ensemble\")\n",
    "print (\"e2 = \",e2)\n",
    "e_copy=e2.copy()\n",
    "print (e_copy)\n",
    "e3=e"
   ]
  },
  {
   "cell_type": "code",
   "execution_count": 35,
   "metadata": {},
   "outputs": [
    {
     "name": "stdout",
     "output_type": "stream",
     "text": [
      "{'toyota': 25000, 'honda': 15000, 'vw': 15561, 'bmw': 59889}\n",
      "{'toyota': 25000, 'honda': 15000, 'vw': 15561, 'bmw': 59889, 'ford': 98744}\n",
      "{'toyota': 12000, 'honda': 15000, 'vw': 15561, 'bmw': 59889, 'ford': 98744}\n",
      "dict_keys(['toyota', 'honda', 'vw', 'bmw', 'ford'])\n",
      "['toyota', 'honda', 'vw', 'bmw', 'ford']\n",
      "dict_values([12000, 15000, 15561, 59889, 98744])\n",
      "dict_items([('toyota', 12000), ('honda', 15000), ('vw', 15561), ('bmw', 59889), ('ford', 98744)])\n",
      "[('toyota', 12000), ('honda', 15000), ('vw', 15561), ('bmw', 59889), ('ford', 98744)]\n",
      "[20, 50, 100]\n",
      "False\n",
      "True\n",
      "None\n",
      "n'existe pas\n",
      "{'honda': 15000, 'vw': 15561, 'bmw': 59889, 'ford': 98744}\n",
      "15561\n",
      "la prix de la voitures honda est 15000\n",
      "la prix de la voitures bmw est 59889\n",
      "la prix de la voitures ford est 98744\n",
      "la prix de la voitures honda est 15000\n",
      "la prix de la voitures bmw est 59889\n",
      "la prix de la voitures ford est 98744\n",
      "honda::bmw::ford::"
     ]
    }
   ],
   "source": [
    "d_voitures={\"toyota\":25000,\"honda\":15000}\n",
    "d_voitures.update({\"vw\":15561,\"bmw\":59889})\n",
    "print(d_voitures)\n",
    "d_voitures[\"ford\"]=98744\n",
    "print(d_voitures)\n",
    "d_voitures[\"toyota\"]=12000\n",
    "print(d_voitures)\n",
    "print(d_voitures.keys())\n",
    "print(list(d_voitures.keys()))\n",
    "print(d_voitures.values())\n",
    "print(d_voitures.items())\n",
    "print(list(d_voitures.items()))\n",
    "d={\"cat\":100,\"dog\":50,\"hamster\":20}\n",
    "print(sorted(d.values()))\n",
    "print(\"chat\"in d )\n",
    "print(\"bird\" not in d )\n",
    "print(d_voitures.get(\"jeep\"))\n",
    "print(d_voitures.get(\"jeep\",\"n'existe pas\"))\n",
    "del(d_voitures[\"toyota\"])\n",
    "print(d_voitures)\n",
    "print(d_voitures.pop(\"vw\"))\n",
    "for x,v in d_voitures.items():\n",
    "    print (\"la prix de la voitures {} est {}\".format(x,v))\n",
    "for x in d_voitures.items():\n",
    "    print (\"la prix de la voitures {} est {}\".format(x[0],x[1]))\n",
    "for c in d_voitures: \n",
    "#ou bien le d_voiture.keys()\n",
    "    print (c,end='::')\n",
    "\n",
    "    "
   ]
  },
  {
   "cell_type": "code",
   "execution_count": null,
   "metadata": {},
   "outputs": [],
   "source": []
  }
 ],
 "metadata": {
  "kernelspec": {
   "display_name": "Python 3",
   "language": "python",
   "name": "python3"
  },
  "language_info": {
   "codemirror_mode": {
    "name": "ipython",
    "version": 3
   },
   "file_extension": ".py",
   "mimetype": "text/x-python",
   "name": "python",
   "nbconvert_exporter": "python",
   "pygments_lexer": "ipython3",
   "version": "3.11.1"
  }
 },
 "nbformat": 4,
 "nbformat_minor": 2
}

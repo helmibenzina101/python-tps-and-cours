{
 "cells": [
  {
   "cell_type": "code",
   "execution_count": 1,
   "id": "6c3393ac",
   "metadata": {},
   "outputs": [
    {
     "name": "stdout",
     "output_type": "stream",
     "text": [
      "['ad', 'ae', 'bd', 'be', 'cd', 'ce']\n"
     ]
    }
   ],
   "source": [
    "liste = [i+j for i in \"abc\" for j in \"de\"]\n",
    "print(liste)"
   ]
  },
  {
   "cell_type": "code",
   "execution_count": 5,
   "id": "f50792a3",
   "metadata": {},
   "outputs": [
    {
     "name": "stdout",
     "output_type": "stream",
     "text": [
      "['aa', 'aaa', 'bb', 'bbb', 'cc', 'ccc']\n"
     ]
    }
   ],
   "source": [
    "liste = [i*j for i in \"abc\" for j in range(2,4)]\n",
    "print (liste)"
   ]
  },
  {
   "cell_type": "code",
   "execution_count": 6,
   "id": "b6659c47",
   "metadata": {},
   "outputs": [],
   "source": [
    "#liste.append est une fonction qui retourne erreur tout seule"
   ]
  },
  {
   "cell_type": "code",
   "execution_count": 7,
   "id": "ffa27a52",
   "metadata": {},
   "outputs": [
    {
     "ename": "NameError",
     "evalue": "name 'random' is not defined",
     "output_type": "error",
     "traceback": [
      "\u001b[1;31m---------------------------------------------------------------------------\u001b[0m",
      "\u001b[1;31mNameError\u001b[0m                                 Traceback (most recent call last)",
      "Cell \u001b[1;32mIn[7], line 1\u001b[0m\n\u001b[1;32m----> 1\u001b[0m help(random)\n",
      "\u001b[1;31mNameError\u001b[0m: name 'random' is not defined"
     ]
    }
   ],
   "source": [
    "help(random)\n"
   ]
  },
  {
   "cell_type": "code",
   "execution_count": 19,
   "id": "c88f02b1",
   "metadata": {},
   "outputs": [
    {
     "name": "stdout",
     "output_type": "stream",
     "text": [
      "[1, 3, 5]\n"
     ]
    }
   ],
   "source": [
    "from random import *\n",
    "liste=[randrange(1,10,2) for i in range (3)  ]\n",
    "print (liste)"
   ]
  },
  {
   "cell_type": "code",
   "execution_count": 20,
   "id": "3424b5ce",
   "metadata": {},
   "outputs": [
    {
     "name": "stdout",
     "output_type": "stream",
     "text": [
      "[11, 4, 7, 3, 12]\n"
     ]
    }
   ],
   "source": [
    "from random import * \n",
    "liste2=sample(range(20),5)\n",
    "print (liste2)"
   ]
  },
  {
   "cell_type": "code",
   "execution_count": null,
   "id": "98d91999",
   "metadata": {},
   "outputs": [],
   "source": []
  }
 ],
 "metadata": {
  "kernelspec": {
   "display_name": "Python 3 (ipykernel)",
   "language": "python",
   "name": "python3"
  },
  "language_info": {
   "codemirror_mode": {
    "name": "ipython",
    "version": 3
   },
   "file_extension": ".py",
   "mimetype": "text/x-python",
   "name": "python",
   "nbconvert_exporter": "python",
   "pygments_lexer": "ipython3",
   "version": "3.11.4"
  }
 },
 "nbformat": 4,
 "nbformat_minor": 5
}

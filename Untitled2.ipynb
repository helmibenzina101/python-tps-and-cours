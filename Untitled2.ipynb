{
 "cells": [
  {
   "cell_type": "code",
   "execution_count": 5,
   "id": "9e7cee46",
   "metadata": {},
   "outputs": [
    {
     "name": "stdout",
     "output_type": "stream",
     "text": [
      "[3, 'c', True, 3.14, 'd', 3.14]\n"
     ]
    }
   ],
   "source": [
    "liste1=[3,'c']\n",
    "liste2=[True,3.14,'d',3.14]\n",
    "print (liste1 + liste2)"
   ]
  },
  {
   "cell_type": "code",
   "execution_count": 6,
   "id": "3b0eee5b",
   "metadata": {},
   "outputs": [
    {
     "name": "stdout",
     "output_type": "stream",
     "text": [
      "[1, 2, 3, 4, 'd', 3.14]\n"
     ]
    }
   ],
   "source": [
    "liste2[0:2]=[1,2,3,4]\n",
    "print (liste2)"
   ]
  },
  {
   "cell_type": "code",
   "execution_count": 7,
   "id": "e05340c4",
   "metadata": {},
   "outputs": [],
   "source": [
    "nombre=[1,2,3]\n",
    "nb=nombre "
   ]
  },
  {
   "cell_type": "code",
   "execution_count": 8,
   "id": "51d78724",
   "metadata": {},
   "outputs": [
    {
     "name": "stdout",
     "output_type": "stream",
     "text": [
      "(1932313137600, 1932313137600)\n"
     ]
    }
   ],
   "source": [
    "print((id(nb),id(nombre)))"
   ]
  },
  {
   "cell_type": "code",
   "execution_count": 9,
   "id": "e6bc2070",
   "metadata": {},
   "outputs": [],
   "source": [
    "nb[-1]=9"
   ]
  },
  {
   "cell_type": "code",
   "execution_count": 10,
   "id": "1e16649c",
   "metadata": {},
   "outputs": [
    {
     "name": "stdout",
     "output_type": "stream",
     "text": [
      "[1, 2, 9]\n"
     ]
    }
   ],
   "source": [
    "print(nombre)"
   ]
  },
  {
   "cell_type": "code",
   "execution_count": 20,
   "id": "fece6843",
   "metadata": {},
   "outputs": [
    {
     "name": "stdout",
     "output_type": "stream",
     "text": [
      "4\n",
      "[8, False, 'hihi', 5.5, 'igi']\n",
      "[8, False, 'hihi', 5.5, 'igi', 1, 8]\n",
      "[8, False, 'hihi', 'bb', 5.5, 'igi', 1, 8]\n",
      "None\n"
     ]
    }
   ],
   "source": [
    "import copy\n",
    "liste = [8,False,'hihi',5.5]\n",
    "print(len(liste))\n",
    "liste.append('igi')\n",
    "print (liste)\n",
    "liste.extend([1,8])\n",
    "print(liste)\n",
    "liste.insert(3,'bb')\n",
    "print(liste)\n",
    "#liste1=[8,False,'hihi',5.5][1,5]]\n",
    "#[1,5] change \n",
    "print(liste.reverse())"
   ]
  },
  {
   "cell_type": "code",
   "execution_count": 22,
   "id": "0f2d1e20",
   "metadata": {},
   "outputs": [
    {
     "data": {
      "text/plain": [
       "<list_reverseiterator at 0x1c1e6d7e620>"
      ]
     },
     "execution_count": 22,
     "metadata": {},
     "output_type": "execute_result"
    }
   ],
   "source": [
    "reversed(liste)"
   ]
  },
  {
   "cell_type": "code",
   "execution_count": 24,
   "id": "37adbf61",
   "metadata": {},
   "outputs": [
    {
     "name": "stdout",
     "output_type": "stream",
     "text": [
      "8\n",
      "False\n",
      "hihi\n",
      "bb\n",
      "5.5\n",
      "igi\n",
      "1\n",
      "8\n"
     ]
    }
   ],
   "source": [
    "for i in reversed (liste):\n",
    "    print(i)"
   ]
  },
  {
   "cell_type": "code",
   "execution_count": 26,
   "id": "d78c937e",
   "metadata": {},
   "outputs": [
    {
     "ename": "TypeError",
     "evalue": "'NoneType' object is not iterable",
     "output_type": "error",
     "traceback": [
      "\u001b[1;31m---------------------------------------------------------------------------\u001b[0m",
      "\u001b[1;31mTypeError\u001b[0m                                 Traceback (most recent call last)",
      "Cell \u001b[1;32mIn[26], line 1\u001b[0m\n\u001b[1;32m----> 1\u001b[0m \u001b[38;5;28;01mfor\u001b[39;00m i \u001b[38;5;129;01min\u001b[39;00m liste\u001b[38;5;241m.\u001b[39mreverse():\n\u001b[0;32m      2\u001b[0m     \u001b[38;5;28mprint\u001b[39m(i)\n",
      "\u001b[1;31mTypeError\u001b[0m: 'NoneType' object is not iterable"
     ]
    }
   ],
   "source": [
    "for i in liste.reverse():\n",
    "    print(i)"
   ]
  },
  {
   "cell_type": "code",
   "execution_count": 31,
   "id": "2b55d1be",
   "metadata": {},
   "outputs": [
    {
     "name": "stdout",
     "output_type": "stream",
     "text": [
      "[1, 3, 5, 8, 8, 8]\n"
     ]
    }
   ],
   "source": [
    "liste=[8,1,3,5,8,8]\n",
    "liste.sort()\n",
    "print(liste)    \n"
   ]
  },
  {
   "cell_type": "code",
   "execution_count": 33,
   "id": "b483b55c",
   "metadata": {},
   "outputs": [
    {
     "ename": "AttributeError",
     "evalue": "'list' object has no attribute 'reversed'",
     "output_type": "error",
     "traceback": [
      "\u001b[1;31m---------------------------------------------------------------------------\u001b[0m",
      "\u001b[1;31mAttributeError\u001b[0m                            Traceback (most recent call last)",
      "Cell \u001b[1;32mIn[33], line 1\u001b[0m\n\u001b[1;32m----> 1\u001b[0m liste4\u001b[38;5;241m=\u001b[39mliste\u001b[38;5;241m.\u001b[39mreversed()\n",
      "\u001b[1;31mAttributeError\u001b[0m: 'list' object has no attribute 'reversed'"
     ]
    }
   ],
   "source": [
    "liste4=liste.reversed()"
   ]
  },
  {
   "cell_type": "code",
   "execution_count": 37,
   "id": "be0da09c",
   "metadata": {},
   "outputs": [
    {
     "name": "stdout",
     "output_type": "stream",
     "text": [
      "['banane', 'kiwi', 'pomme']\n",
      "['kiwi', 'pomme', 'banane']\n"
     ]
    }
   ],
   "source": [
    "listefruit=[\"kiwi\",\"pomme\",\"banane\"]\n",
    "liste=sorted(listefruit)\n",
    "print(liste)\n",
    "liste=sorted(listefruit,key=len)\n",
    "print(liste)"
   ]
  },
  {
   "cell_type": "code",
   "execution_count": 39,
   "id": "73eb35a7",
   "metadata": {},
   "outputs": [
    {
     "name": "stdout",
     "output_type": "stream",
     "text": [
      "kiwi\n",
      "pomme\n",
      "banane\n"
     ]
    }
   ],
   "source": [
    "for f in listefruit:\n",
    "    print(f)"
   ]
  },
  {
   "cell_type": "code",
   "execution_count": 49,
   "id": "6313f8bc",
   "metadata": {},
   "outputs": [
    {
     "name": "stdout",
     "output_type": "stream",
     "text": [
      "kiwi\n",
      "pomme\n",
      "banane\n"
     ]
    }
   ],
   "source": [
    "i=0\n",
    "while (i<len(listefruit)):\n",
    "    print(listefruit[i])\n",
    "    i+=1"
   ]
  },
  {
   "cell_type": "code",
   "execution_count": 4,
   "id": "9908509b",
   "metadata": {},
   "outputs": [
    {
     "ename": "TypeError",
     "evalue": "object of type 'int' has no len()",
     "output_type": "error",
     "traceback": [
      "\u001b[1;31m---------------------------------------------------------------------------\u001b[0m",
      "\u001b[1;31mTypeError\u001b[0m                                 Traceback (most recent call last)",
      "Cell \u001b[1;32mIn[4], line 8\u001b[0m\n\u001b[0;32m      6\u001b[0m h\u001b[38;5;241m=\u001b[39m\u001b[38;5;241m0\u001b[39m\n\u001b[0;32m      7\u001b[0m f\u001b[38;5;241m+\u001b[39m\u001b[38;5;241m=\u001b[39m\u001b[38;5;241m1\u001b[39m\n\u001b[1;32m----> 8\u001b[0m \u001b[38;5;28;01mwhile\u001b[39;00m  (h\u001b[38;5;241m<\u001b[39m\u001b[38;5;28mlen\u001b[39m(f)):\n\u001b[0;32m      9\u001b[0m     \u001b[38;5;28mprint\u001b[39m(liste[f][h])\n\u001b[0;32m     10\u001b[0m     h\u001b[38;5;241m+\u001b[39m\u001b[38;5;241m=\u001b[39m\u001b[38;5;241m1\u001b[39m\n",
      "\u001b[1;31mTypeError\u001b[0m: object of type 'int' has no len()"
     ]
    }
   ],
   "source": [
    "liste1= [2,'c','salut']\n",
    "liste = [liste1,'bon',[3,4]]\n",
    "\n",
    "f=0\n",
    "while (f<len(liste)):\n",
    "    h=0\n",
    "    f+=1\n",
    "    while  (h<len(f)):\n",
    "        print(liste[f][h])\n",
    "        h+=1   \n"
   ]
  },
  {
   "cell_type": "code",
   "execution_count": null,
   "id": "dac99385",
   "metadata": {},
   "outputs": [],
   "source": []
  }
 ],
 "metadata": {
  "kernelspec": {
   "display_name": "Python 3 (ipykernel)",
   "language": "python",
   "name": "python3"
  },
  "language_info": {
   "codemirror_mode": {
    "name": "ipython",
    "version": 3
   },
   "file_extension": ".py",
   "mimetype": "text/x-python",
   "name": "python",
   "nbconvert_exporter": "python",
   "pygments_lexer": "ipython3",
   "version": "3.11.4"
  }
 },
 "nbformat": 4,
 "nbformat_minor": 5
}

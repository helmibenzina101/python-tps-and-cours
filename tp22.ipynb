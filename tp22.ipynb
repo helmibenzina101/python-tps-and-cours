{
 "cells": [
  {
   "cell_type": "code",
   "execution_count": 1,
   "metadata": {},
   "outputs": [
    {
     "name": "stdout",
     "output_type": "stream",
     "text": [
      "tupp = (6, 10, 3, 8, 7)\n",
      "tupp_seg = [[10, 6], [8, 3], [7]]\n",
      "tupp_seg = [[16, 10, 6], [11, 8, 3], [7, 7]]\n",
      "ch_nombre = 16106118377\n"
     ]
    }
   ],
   "source": [
    "import random\n",
    "\n",
    "# Saisie d'un entier positif n <= 20\n",
    "while True:\n",
    "    n = int(input(\"Saisissez un entier positif n (<= 20) : \"))\n",
    "    if 0 < n <= 20:\n",
    "        break\n",
    "    else:\n",
    "        print(\"La valeur saisie est incorrecte. Veuillez réessayer.\")\n",
    "\n",
    "# Génération aléatoire du tuple tupp de n entiers entre 1 et 10\n",
    "tupp = tuple(random.randint(1, 10) for _ in range(n))\n",
    "print(f\"tupp = {tupp}\")\n",
    "\n",
    "# Extraction de tupp_seg à partir de tupp\n",
    "tupp_seg = sorted([sorted(tupp[i:i + 2], reverse=True) for i in range(0, n, 2)], key=lambda x: x[0], reverse=True)\n",
    "print(f\"tupp_seg = {tupp_seg}\")\n",
    "\n",
    "# Ajout de la somme des éléments à la première position de chaque liste\n",
    "tupp_seg = [([sum(sublist)] + sublist) for sublist in tupp_seg]\n",
    "print(f\"tupp_seg = {tupp_seg}\")\n",
    "\n",
    "# Transformation de tupp_seg en une chaîne de caractères ch_nombre\n",
    "ch_nombre = ''.join(str(num) for sublist in tupp_seg for num in sublist)\n",
    "print(f\"ch_nombre = {ch_nombre}\")\n"
   ]
  },
  {
   "cell_type": "code",
   "execution_count": 2,
   "metadata": {},
   "outputs": [
    {
     "name": "stdout",
     "output_type": "stream",
     "text": [
      "1/ c_client_dict = {'Doliprane': 1, 'GelNettoyant': 2, 'Dermosalic': 1, 'Fervex': 3}\n",
      "2/ prod_disp = {'Doliprane', 'GelNettoyant'}\n",
      "3/ prod_n_disp = {'Dermosalic', 'Fervex'}\n",
      "4/ l_cmd = [('Doliprane', 3.0), ('GelNettoyant', 15.5), ('Dermosalic', None), ('Fervex', None)]\n",
      "5/ Montant total à payer : 16.650000000000002\n"
     ]
    }
   ],
   "source": [
    "b_pharm = {'Doliprane': 3.000, 'Efferalgan': 4.500, 'orelox': 9.250, 'EcranFacial': 35.900, \n",
    "           'Paracétamol': 11.800, 'Atropine': 22.500, 'Augmentin': 23.400, 'GelNettoyant': 15.500, \n",
    "           'Thermomètre': 8.200, 'SondeAspiration': 12.500}\n",
    "\n",
    "c_client = [{'Doliprane': 1}, {'GelNettoyant': 2}, {'Dermosalic': 1}, {'Fervex': 3}]\n",
    "\n",
    "# 1/ Transformer c_client en un dictionnaire\n",
    "c_client_dict = {k: v for d in c_client for k, v in d.items()}\n",
    "print(f\"1/ c_client_dict = {c_client_dict}\")\n",
    "\n",
    "# 2/ Créer et afficher un ensemble prod_disp contenant les produits disponibles dans la pharmacie\n",
    "prod_disp = set(c_client_dict.keys()).intersection(b_pharm.keys())\n",
    "print(f\"2/ prod_disp = {prod_disp}\")\n",
    "\n",
    "# 3/ Créer et afficher l'ensemble des produits non disponibles dans la commande du client\n",
    "prod_n_disp = set(c_client_dict.keys()) - set(b_pharm.keys())\n",
    "print(f\"3/ prod_n_disp = {prod_n_disp}\")\n",
    "\n",
    "# 4/ Traiter la commande du client en créant la liste l_cmd\n",
    "l_cmd = [(prod, b_pharm.get(prod)) for prod in c_client_dict.keys()]\n",
    "print(f\"4/ l_cmd = {l_cmd}\")\n",
    "\n",
    "# 5/ Déterminer et afficher le montant total à payer de la commande c_client\n",
    "total_amount = sum(price if price else 0 for _, price in l_cmd)\n",
    "if len(prod_n_disp) > 1:\n",
    "    total_amount *= 0.9  # Appliquer une réduction de 10%\n",
    "print(f\"5/ Montant total à payer : {total_amount}\")\n"
   ]
  }
 ],
 "metadata": {
  "kernelspec": {
   "display_name": "Python 3",
   "language": "python",
   "name": "python3"
  },
  "language_info": {
   "codemirror_mode": {
    "name": "ipython",
    "version": 3
   },
   "file_extension": ".py",
   "mimetype": "text/x-python",
   "name": "python",
   "nbconvert_exporter": "python",
   "pygments_lexer": "ipython3",
   "version": "3.11.1"
  }
 },
 "nbformat": 4,
 "nbformat_minor": 2
}

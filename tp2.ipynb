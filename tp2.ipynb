{
 "cells": [
  {
   "cell_type": "code",
   "execution_count": 21,
   "id": "32a4ef46",
   "metadata": {},
   "outputs": [
    {
     "name": "stdout",
     "output_type": "stream",
     "text": [
      " Aap44193th23zyt889D3on \n",
      "lettres mmajuscules:  2\n",
      "nbre de caractere non redondant 17\n",
      " ??p44193th23zyt889D3on \n",
      " no3D988tyz32ht39144p?? \n",
      " no3D@tyz32ht@44p?? \n",
      " no3D@tyz32ht@44p?? \n",
      "20\n",
      "somme des chiffres 5\n",
      " no3D@tyz32ht@44p?? \n",
      "False\n"
     ]
    }
   ],
   "source": [
    "import random\n",
    "\n",
    "mot=\" Aap44193th23zyt889D3on \"\n",
    "mot.strip()\n",
    "print(mot)\n",
    "\n",
    "print(\"lettres mmajuscules: \", sum(1 for c in mot if c.isupper()))\n",
    "\n",
    "charactere_unique = set()\n",
    "for char in mot:\n",
    "    charactere_unique.add(char)\n",
    "nonredon=len(charactere_unique)\n",
    "print (\"nbre de caractere non redondant\",nonredon)\n",
    "    \n",
    "mot=mot.replace('A','?')\n",
    "mot=mot.replace('a','?')\n",
    "print (mot)\n",
    "mot=mot[::-1]\n",
    "print (mot)\n",
    "\n",
    "i = 0\n",
    "while i < len(mot) - 2:\n",
    "    if mot[i].isdigit() and mot[i + 1].isdigit() and mot[i + 2].isdigit():\n",
    "      mot = mot[:i] + '@' + mot[i + 3:]\n",
    "      i += 1\n",
    "    else:\n",
    "      i += 1\n",
    "\n",
    "print(mot)\n",
    "\n",
    "pattern = r'\\d{3}'\n",
    "mot= re.sub(pattern,'@', mot)\n",
    "print(mot)\n",
    "\n",
    "print (len(mot))\n",
    "countdigit=0\n",
    "for char in mot:\n",
    "        if char.isdigit():\n",
    "            countdigit += 1\n",
    "print (\"somme des chiffres\",countdigit) \n",
    "print(mot)\n",
    "mot1=\"no3D@tyz32ht@44p??\"\n",
    "\n",
    "mot1_set = set(mot1)\n",
    "result=True\n",
    "for char in mot:\n",
    "    if char not in mot1_set:\n",
    "      result=False\n",
    "    \n",
    "print(result)"
   ]
  },
  {
   "cell_type": "markdown",
   "id": "405a3ea2",
   "metadata": {},
   "source": []
  },
  {
   "cell_type": "code",
   "execution_count": 3,
   "id": "bc1a0e93",
   "metadata": {},
   "outputs": [
    {
     "name": "stdout",
     "output_type": "stream",
     "text": [
      "[('Python', 2), ('est', 4), ('est', 4), ('est', 4), ('populaire', 2), ('Python', 2), ('populaire', 2), ('est', 4), ('simple', 1)]\n",
      "[('Python', 2), ('populaire', 2), ('est', 4), ('est', 4), ('est', 4), ('populaire', 2), ('simple', 1), ('Python', 2), ('est', 4)]\n",
      "[('Python', 2), ('populaire', 2), ('est', 4), ('est', 4), ('est', 4), ('populaire', 2), ('simple', 1), ('Python', 2), ('est', 4)]\n",
      "Python*populaire*est*est*est*populaire*simple*Python*est*\n"
     ]
    }
   ],
   "source": [
    "ch = \"Python est est est populaire \\n Python populaire est simple\"\n",
    "\n",
    "# 1/ Créer une liste, nommée l_ch, contenant des listes dont chacun comporte deux éléments : le \n",
    "# premier représente un mot de ch et le deuxième correspond à son nombre d’occurrence\n",
    "mots = ch.split()\n",
    "l_ch = []\n",
    "for mot in mots:\n",
    "  l_ch.append((mot, mots.count(mot)))\n",
    "print(l_ch)\n",
    "# 2/ Mélanger aléatoirement les éléments de l_ch\n",
    "\n",
    "import random\n",
    "random.shuffle(l_ch)\n",
    "print(l_ch)\n",
    "# 3/ Transformer les listes de format [𝐦𝐨𝐭 , 𝐨𝐜𝐜 ] de l_ch en des listes contenant 𝐦𝐨𝐭 répété 𝐨𝐜𝐜 fois\n",
    "\n",
    "for sublist in l_ch:\n",
    "  sublist = list(sublist)\n",
    "  sublist[1] = sublist[0] * sublist[1]\n",
    "print(l_ch)\n",
    "# 4/ Transformer l_ch en une chaine de caractères, nommée chT dont les mots sont séparés par \"*\"\n",
    "\n",
    "chT = \"\"\n",
    "for sublist in l_ch:\n",
    "  for element in sublist:\n",
    "    chT += str(element)\n",
    "  chT += \"*\" \n",
    "\n",
    "chT = chT.replace(\"1\", \"\")\n",
    "chT = chT.replace(\"2\", \"\")\n",
    "chT = chT.replace(\"3\", \"\")\n",
    "chT = chT.replace(\"4\", \"\")\n",
    "chT = chT.replace(\"5\", \"\")\n",
    "chT = chT.replace(\"6\", \"\")\n",
    "chT = chT.replace(\"7\", \"\")\n",
    "chT = chT.replace(\"8\", \"\")\n",
    "chT = chT.replace(\"9\", \"\")\n",
    "\n",
    "print(chT)"
   ]
  },
  {
   "cell_type": "code",
   "execution_count": null,
   "id": "39442492",
   "metadata": {},
   "outputs": [],
   "source": []
  },
  {
   "cell_type": "code",
   "execution_count": null,
   "id": "3694f0c9",
   "metadata": {},
   "outputs": [],
   "source": []
  }
 ],
 "metadata": {
  "kernelspec": {
   "display_name": "Python 3 (ipykernel)",
   "language": "python",
   "name": "python3"
  },
  "language_info": {
   "codemirror_mode": {
    "name": "ipython",
    "version": 3
   },
   "file_extension": ".py",
   "mimetype": "text/x-python",
   "name": "python",
   "nbconvert_exporter": "python",
   "pygments_lexer": "ipython3",
   "version": "3.11.4"
  }
 },
 "nbformat": 4,
 "nbformat_minor": 5
}
